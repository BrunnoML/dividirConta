{
  "nbformat": 4,
  "nbformat_minor": 0,
  "metadata": {
    "colab": {
      "provenance": [],
      "authorship_tag": "ABX9TyOtlcXNvNN+bZkenFO1rpJY",
      "include_colab_link": true
    },
    "kernelspec": {
      "name": "python3",
      "display_name": "Python 3"
    },
    "language_info": {
      "name": "python"
    }
  },
  "cells": [
    {
      "cell_type": "markdown",
      "metadata": {
        "id": "view-in-github",
        "colab_type": "text"
      },
      "source": [
        "<a href=\"https://colab.research.google.com/github/BrunnoML/dividirConta/blob/main/DividirConta.ipynb\" target=\"_parent\"><img src=\"https://colab.research.google.com/assets/colab-badge.svg\" alt=\"Open In Colab\"/></a>"
      ]
    },
    {
      "cell_type": "code",
      "source": [
        "!pip install streamlit --quiet"
      ],
      "metadata": {
        "colab": {
          "base_uri": "https://localhost:8080/"
        },
        "id": "QqMqDS6HoTLE",
        "outputId": "e7ce53e6-96d1-4fd9-a3ec-5fa6ef9a6afc"
      },
      "execution_count": 3,
      "outputs": [
        {
          "output_type": "stream",
          "name": "stdout",
          "text": [
            "\u001b[2K     \u001b[90m━━━━━━━━━━━━━━━━━━━━━━━━━━━━━━━━━━━━━━━━\u001b[0m \u001b[32m8.6/8.6 MB\u001b[0m \u001b[31m16.2 MB/s\u001b[0m eta \u001b[36m0:00:00\u001b[0m\n",
            "\u001b[2K     \u001b[90m━━━━━━━━━━━━━━━━━━━━━━━━━━━━━━━━━━━━━━━━\u001b[0m \u001b[32m207.3/207.3 kB\u001b[0m \u001b[31m19.9 MB/s\u001b[0m eta \u001b[36m0:00:00\u001b[0m\n",
            "\u001b[2K     \u001b[90m━━━━━━━━━━━━━━━━━━━━━━━━━━━━━━━━━━━━━━━━\u001b[0m \u001b[32m6.9/6.9 MB\u001b[0m \u001b[31m56.3 MB/s\u001b[0m eta \u001b[36m0:00:00\u001b[0m\n",
            "\u001b[2K     \u001b[90m━━━━━━━━━━━━━━━━━━━━━━━━━━━━━━━━━━━━━━━━\u001b[0m \u001b[32m83.0/83.0 kB\u001b[0m \u001b[31m9.5 MB/s\u001b[0m eta \u001b[36m0:00:00\u001b[0m\n",
            "\u001b[2K     \u001b[90m━━━━━━━━━━━━━━━━━━━━━━━━━━━━━━━━━━━━━━━━\u001b[0m \u001b[32m62.7/62.7 kB\u001b[0m \u001b[31m7.7 MB/s\u001b[0m eta \u001b[36m0:00:00\u001b[0m\n",
            "\u001b[?25h"
          ]
        }
      ]
    },
    {
      "cell_type": "markdown",
      "source": [
        "Importando a biblioteca do streamlit"
      ],
      "metadata": {
        "id": "pDysz9e0oKjQ"
      }
    },
    {
      "cell_type": "code",
      "source": [
        "import streamlit as st"
      ],
      "metadata": {
        "id": "NWevTQHtoJtS"
      },
      "execution_count": 4,
      "outputs": []
    },
    {
      "cell_type": "markdown",
      "source": [
        "Criar o título e a descrição do app"
      ],
      "metadata": {
        "id": "l7gMst8coe41"
      }
    },
    {
      "cell_type": "code",
      "source": [
        "st.title(\"Divisão de Conta com Gorjeta\")\n",
        "st.write(\"Divida sua conta de maneira rápida e fácil!\")"
      ],
      "metadata": {
        "colab": {
          "base_uri": "https://localhost:8080/"
        },
        "id": "hKgmR-uVoeRn",
        "outputId": "02298cdf-c885-4e33-f2a5-b7a580a23630"
      },
      "execution_count": 5,
      "outputs": [
        {
          "output_type": "stream",
          "name": "stderr",
          "text": [
            "2024-05-25 16:43:03.255 \n",
            "  \u001b[33m\u001b[1mWarning:\u001b[0m to view this Streamlit app on a browser, run it with the following\n",
            "  command:\n",
            "\n",
            "    streamlit run /usr/local/lib/python3.10/dist-packages/colab_kernel_launcher.py [ARGUMENTS]\n"
          ]
        }
      ]
    },
    {
      "cell_type": "markdown",
      "source": [
        "Obtendo os valores com slid e seleção"
      ],
      "metadata": {
        "id": "mQMWZfiLozIY"
      }
    },
    {
      "cell_type": "code",
      "source": [
        "conta = st.number_input(\"Valor da Conta (R$)\", min_value=0.00, step=0.01)\n",
        "gorjeta = st.selectbox(\"Porcentagem da Gorjeta\", options=[10, 12, 15])\n",
        "pessoas = st.number_input(\"Quantas Pessoas?\", min_value=1)"
      ],
      "metadata": {
        "colab": {
          "base_uri": "https://localhost:8080/"
        },
        "id": "r2aaRdrRo2q3",
        "outputId": "8ed7ddeb-3c36-4ab1-f1f4-9d4e8a299891"
      },
      "execution_count": 6,
      "outputs": [
        {
          "output_type": "stream",
          "name": "stderr",
          "text": [
            "2024-05-25 16:44:18.444 Session state does not function when running a script without `streamlit run`\n"
          ]
        }
      ]
    },
    {
      "cell_type": "markdown",
      "source": [
        "Calcula e mostra o resultado"
      ],
      "metadata": {
        "id": "sK1aG37xo-BQ"
      }
    },
    {
      "cell_type": "code",
      "source": [
        "total = (conta * (1 + (gorjeta / 100))) / pessoas\n",
        "st.write(f\"Cada pessoa paga: R$ {total:.2f}\")"
      ],
      "metadata": {
        "id": "K1o6A6TBpARz"
      },
      "execution_count": 7,
      "outputs": []
    },
    {
      "cell_type": "markdown",
      "source": [
        "Vamos fazer um app para calcular quanto cada pessoa vai pagar por uma conta, incluindo a gorjeta.\n",
        "\n",
        "O código que iniciei foi:\n",
        "\n",
        "\n",
        "```\n",
        "# Isto está formatado como código\n",
        "print(\"Vamos dividir a conta rápido?\")\n",
        "conta = float(input(\"Qual o valor da conta? R$\"))\n",
        "gorjeta = int(input(\"Qual a porcentagem da gorjeta? 10, 12 ou 15? \"))\n",
        "pessoas = int(input(\"Quantas pessoas vão dividir a conta? \"))\n",
        "total = (conta * (1 + (gorjeta / 100))) / pessoas\n",
        "print(f\"Cada pessoa vai pagar R${total:.2f}\")\n",
        "```\n",
        "\n"
      ],
      "metadata": {
        "id": "SdbkV-UFcWGG"
      }
    },
    {
      "cell_type": "code",
      "execution_count": 2,
      "metadata": {
        "colab": {
          "base_uri": "https://localhost:8080/"
        },
        "id": "WwXFguqHcUJe",
        "outputId": "a2c46172-9f1d-43ab-cd26-d03a48e37ce2"
      },
      "outputs": [
        {
          "output_type": "stream",
          "name": "stdout",
          "text": [
            "Vamos dividir a conta rápido?\n",
            "Qual o valor da conta? R$450\n",
            "Qual a porcentagem da gorjeta? 10, 12 ou 15? 10\n",
            "Quantas pessoas vão dividir a conta? 6\n",
            "Cada pessoa vai pagar R$82.50\n"
          ]
        }
      ],
      "source": []
    }
  ]
}